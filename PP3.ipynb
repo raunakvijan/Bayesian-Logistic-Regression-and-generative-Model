{
 "cells": [
  {
   "cell_type": "code",
   "execution_count": 333,
   "metadata": {},
   "outputs": [],
   "source": [
    "import pandas as pd\n",
    "import numpy as np\n",
    "import matplotlib.pyplot as plt\n",
    "from sklearn.model_selection import train_test_split\n",
    "import math\n",
    "from sklearn.linear_model import LogisticRegression\n",
    "from scipy.stats import multivariate_normal\n",
    "from scipy.special import expit\n",
    "from sklearn.metrics import accuracy_score\n",
    "import math\n",
    "from numpy import linalg as LA\n",
    "from numpy.linalg import inv\n",
    "import math\n",
    "import copy\n",
    "import time\n",
    "import statistics as stat\n",
    "import warnings\n",
    "import random\n",
    "\n",
    "warnings.filterwarnings(\"ignore\", category=RuntimeWarning) "
   ]
  },
  {
   "cell_type": "code",
   "execution_count": 334,
   "metadata": {},
   "outputs": [],
   "source": [
    "# read datasets\n",
    "\n",
    "A_X = pd.read_csv(r\"pp3data/A.csv\",header = None)\n",
    "A_y = pd.read_csv(r\"pp3data/labels-A.csv\",header = None)\n",
    "\n",
    "B_X = pd.read_csv(r\"pp3data/B.csv\",header = None)\n",
    "B_y = pd.read_csv(r\"pp3data/labels-B.csv\",header = None)\n",
    "\n",
    "irls_X = pd.read_csv(r\"pp3data/irlstest.csv\",header = None)\n",
    "irls_y = pd.read_csv(r\"pp3data/labels-irlstest.csv\",header = None)\n",
    "\n",
    "usps_X = pd.read_csv(r\"pp3data/usps.csv\",header = None)\n",
    "usps_y = pd.read_csv(r\"pp3data/labels-usps.csv\",header = None)"
   ]
  },
  {
   "cell_type": "code",
   "execution_count": 335,
   "metadata": {},
   "outputs": [],
   "source": [
    "# this function calculates the shared cov, mean for each class and the prior for each class\n",
    "\n",
    "def generative_train(X_train, y_train):\n",
    "    class_0  = X_train[y_train[0] == 0]\n",
    "    class_1  = X_train[y_train[0] == 1]\n",
    "    \n",
    "    mean_0 = np.mean(class_0, axis = 0)\n",
    "    prior_0 = len(class_0)/len(X_train)\n",
    "\n",
    "    mean_1 = np.mean(class_1, axis = 0)\n",
    "    prior_1 = len(class_1)/len(X_train)\n",
    "    \n",
    "    cov = X_train.cov() \n",
    "    cov = cov + (10**(-6))*np.identity((np.shape(cov)[0]))\n",
    "\n",
    "    return mean_0, mean_1, prior_0, prior_1, cov"
   ]
  },
  {
   "cell_type": "code",
   "execution_count": 336,
   "metadata": {},
   "outputs": [],
   "source": [
    "# this function return the predicted values for the generative model\n",
    "\n",
    "def generative_test(X_test, mean_0, mean_1, prior_0, prior_1, cov):\n",
    "    posterior_0 = prior_0*multivariate_normal.pdf(X_test, mean_0, cov)\n",
    "    posterior_1 = prior_1*multivariate_normal.pdf(X_test, mean_1, cov)\n",
    "\n",
    "    b = np.log((posterior_1/posterior_0))\n",
    "    prob = [1 if a >= 0.5 else 0 for a in expit(b)]\n",
    "    return prob"
   ]
  },
  {
   "cell_type": "code",
   "execution_count": 337,
   "metadata": {},
   "outputs": [],
   "source": [
    "# this function calculates the wts using bayasian logistic regression using the Newton Method update method\n",
    "\n",
    "def bayasian_logistic_reg(X, t):\n",
    "    time_vector = []\n",
    "    start_time = time.time()\n",
    "    alpha = 0.1\n",
    "    col = pd.DataFrame(np.ones((np.shape(X)[0],1)))\n",
    "    \n",
    "    # add the free w0 value\n",
    "    X['bias'] = col\n",
    "\n",
    "    w_old = np.zeros((np.shape(X)[1],1))\n",
    "    time_vector.append((w_old, 0))\n",
    "    \n",
    "    # Newton method update\n",
    "    b = np.dot(X, w_old)\n",
    "    y = expit(b)\n",
    "    a =   y*(1 - y)\n",
    "    R = np.diagflat(a)\n",
    "    mat = np.dot(np.dot((X.T),R),(X))\n",
    "    w_new = w_old - (np.dot(inv(alpha*np.identity(np.shape(mat)[0]) + mat), (np.dot(X.T, y - t) + alpha*w_old)))\n",
    "    time_vector.append((w_new, time.time() - start_time))\n",
    "    n = 1\n",
    "    while(((LA.norm(w_new - w_old) / LA.norm(w_old)) >= 10**(-3)) and (n <= 100)):\n",
    "        w_old = w_new\n",
    "        b = np.dot(X, w_old)\n",
    "        y = expit(b)\n",
    "        a =   y*(1 - y)\n",
    "        R = np.diagflat(a)\n",
    "        mat = np.dot(np.dot((X.T),R),X)\n",
    "        w_new = w_old - (np.dot(inv(alpha*np.identity(np.shape(mat)[0]) + mat), (np.dot(X.T, y - t) + alpha*w_old)))\n",
    "        time_vector.append((w_new, time.time() - start_time))\n",
    "        n+=1\n",
    "\n",
    "    return w_new, time_vector"
   ]
  },
  {
   "cell_type": "code",
   "execution_count": 338,
   "metadata": {},
   "outputs": [
    {
     "name": "stdout",
     "output_type": "stream",
     "text": [
      "[[-0.11937911]\n",
      " [-0.09438351]\n",
      " [-0.02868496]\n",
      " [-0.05118595]\n",
      " [-0.04410372]\n",
      " [ 0.65876598]\n",
      " [ 0.56470193]\n",
      " [ 0.82406586]\n",
      " [ 0.54141515]\n",
      " [ 0.27195451]\n",
      " [-1.63083174]]\n"
     ]
    }
   ],
   "source": [
    "# comparing weight values with the given solution\n",
    "\n",
    "w, _ = bayasian_logistic_reg(irls_X, irls_y)\n",
    "print(w)"
   ]
  },
  {
   "cell_type": "code",
   "execution_count": 339,
   "metadata": {},
   "outputs": [
    {
     "name": "stderr",
     "output_type": "stream",
     "text": [
      "C:\\Users\\rauna\\Anaconda3\\lib\\site-packages\\ipykernel_launcher.py:28: SettingWithCopyWarning: \n",
      "A value is trying to be set on a copy of a slice from a DataFrame.\n",
      "Try using .loc[row_indexer,col_indexer] = value instead\n",
      "\n",
      "See the caveats in the documentation: http://pandas.pydata.org/pandas-docs/stable/indexing.html#indexing-view-versus-copy\n"
     ]
    }
   ],
   "source": [
    "# Calculating train size vs accuracy for dataset A.\n",
    "\n",
    "a_gen = {}\n",
    "a_dis = {}\n",
    "b_gen = {}\n",
    "b_dis = {}\n",
    "usps_gen = {}\n",
    "usps_dis = {}\n",
    "\n",
    "for i in range(30):\n",
    "    #print(i)\n",
    "    A_X_train, A_X_test, A_y_train, A_y_test = train_test_split(A_X, A_y, test_size=(1/3))\n",
    "    A_X_train.reset_index(drop = True, inplace = True)\n",
    "    A_X_test.reset_index(drop = True, inplace = True)\n",
    "    A_y_train.reset_index(drop = True, inplace = True) \n",
    "    A_y_test.reset_index(drop = True, inplace = True)\n",
    "    \n",
    "    for train_size in range(65, len(A_X_train), 50):\n",
    "        mean_0, mean_1, prior_0, prior_1, cov = generative_train(A_X_train[0:train_size].reset_index(drop = True), A_y_train[0:train_size].reset_index(drop = True))\n",
    "        res = generative_test(A_X_test, mean_0, mean_1, prior_0, prior_1, cov) \n",
    "        #print(train_size)\n",
    "        if(train_size in a_gen):\n",
    "            a_gen[train_size].append( accuracy_score(res, A_y_test))\n",
    "        else:\n",
    "            a_gen[train_size] = [accuracy_score(res, A_y_test)]\n",
    "            \n",
    "    col = pd.DataFrame(np.ones((np.shape(A_X_test)[0],1)))\n",
    "    A_X_test['bias'] = col\n",
    "    \n",
    "    for train_size in range(65, len(A_X_train), 50):\n",
    "        w, _ = bayasian_logistic_reg(A_X_train[0:train_size].reset_index(drop = True), A_y_train[0:train_size].reset_index(drop = True))\n",
    "        y = expit(np.dot(A_X_test, w))\n",
    "        prob = [1 if a >= 0.5 else 0 for a in y]\n",
    "        if(train_size in a_dis):\n",
    "            a_dis[train_size].append(accuracy_score(prob, A_y_test))\n",
    "        else:\n",
    "            a_dis[train_size] = [ accuracy_score(prob, A_y_test) ]     \n",
    "\n",
    "\n",
    "agen_mean = []\n",
    "agen_size = []\n",
    "agen_std = []\n",
    "for size, accuracy_list in a_gen.items():\n",
    "    agen_mean.append(stat.mean(accuracy_list))\n",
    "    agen_std.append(stat.stdev(accuracy_list))\n",
    "    agen_std.append(size)\n",
    "\n",
    "adis_mean = []\n",
    "adis_size = []\n",
    "adis_std = []\n",
    "for size, accuracy_list in a_dis.items():\n",
    "    adis_mean.append(stat.mean(accuracy_list))\n",
    "    adis_std.append(stat.stdev(accuracy_list))\n",
    "    adis_std.append(size)\n",
    "    \n"
   ]
  },
  {
   "cell_type": "code",
   "execution_count": 340,
   "metadata": {},
   "outputs": [
    {
     "name": "stderr",
     "output_type": "stream",
     "text": [
      "C:\\Users\\rauna\\Anaconda3\\lib\\site-packages\\ipykernel_launcher.py:22: SettingWithCopyWarning: \n",
      "A value is trying to be set on a copy of a slice from a DataFrame.\n",
      "Try using .loc[row_indexer,col_indexer] = value instead\n",
      "\n",
      "See the caveats in the documentation: http://pandas.pydata.org/pandas-docs/stable/indexing.html#indexing-view-versus-copy\n"
     ]
    }
   ],
   "source": [
    "# Calculating train size vs accuracy for dataset B.\n",
    "\n",
    "\n",
    "for i in range(30):\n",
    "    #print(i)\n",
    "    B_X_train, B_X_test, B_y_train, B_y_test = train_test_split(B_X, B_y, test_size=(1/3))\n",
    "    B_X_train.reset_index(drop = True, inplace = True)\n",
    "    B_X_test.reset_index(drop = True, inplace = True)\n",
    "    B_y_train.reset_index(drop = True, inplace = True) \n",
    "    B_y_test.reset_index(drop = True, inplace = True)\n",
    "    \n",
    "    for train_size in range(2, len(B_X_train), 2):\n",
    "        mean_0, mean_1, prior_0, prior_1, cov = generative_train(B_X_train[0:train_size].reset_index(drop = True), B_y_train[0:train_size].reset_index(drop = True))\n",
    "        res = generative_test(B_X_test, mean_0, mean_1, prior_0, prior_1, cov) \n",
    "        #print(train_size)\n",
    "        if(train_size in b_gen):\n",
    "            b_gen[train_size].append( accuracy_score(res, B_y_test))\n",
    "        else:\n",
    "            b_gen[train_size] = [ accuracy_score(res, B_y_test)]\n",
    "            \n",
    "    col = pd.DataFrame(np.ones((np.shape(B_X_test)[0],1)))\n",
    "    B_X_test['bias'] = col\n",
    "    \n",
    "    for train_size in range(2, len(B_X_train), 2):\n",
    "        w, _ = bayasian_logistic_reg(B_X_train[0:train_size].reset_index(drop = True), B_y_train[0:train_size].reset_index(drop = True))\n",
    "        y = expit(np.dot(B_X_test, w))\n",
    "        prob = [1 if a >= 0.5 else 0 for a in y]\n",
    "        if(train_size in b_dis):\n",
    "            b_dis[train_size].append( accuracy_score(prob, B_y_test))\n",
    "        else:\n",
    "            b_dis[train_size] = [ accuracy_score(prob, B_y_test) ]     \n",
    "\n",
    "\n",
    "bgen_mean = []\n",
    "bgen_size = []\n",
    "bgen_std = []\n",
    "for size, accuracy_list in b_gen.items():\n",
    "    bgen_mean.append(stat.mean(accuracy_list))\n",
    "    bgen_std.append(stat.stdev(accuracy_list))\n",
    "    bgen_std.append(size)\n",
    "\n",
    "bdis_mean = []\n",
    "bdis_size = []\n",
    "bdis_std = []\n",
    "for size, accuracy_list in b_dis.items():\n",
    "    bdis_mean.append(stat.mean(accuracy_list))\n",
    "    bdis_std.append(stat.stdev(accuracy_list))\n",
    "    bdis_std.append(size)\n",
    "    \n"
   ]
  },
  {
   "cell_type": "code",
   "execution_count": 341,
   "metadata": {},
   "outputs": [
    {
     "name": "stderr",
     "output_type": "stream",
     "text": [
      "C:\\Users\\rauna\\Anaconda3\\lib\\site-packages\\ipykernel_launcher.py:21: SettingWithCopyWarning: \n",
      "A value is trying to be set on a copy of a slice from a DataFrame.\n",
      "Try using .loc[row_indexer,col_indexer] = value instead\n",
      "\n",
      "See the caveats in the documentation: http://pandas.pydata.org/pandas-docs/stable/indexing.html#indexing-view-versus-copy\n"
     ]
    }
   ],
   "source": [
    "# Calculating train size vs accuracy for dataset USPS.\n",
    "\n",
    "for i in range(30):\n",
    "    #print(i)\n",
    "    usps_X_train, usps_X_test, usps_y_train, usps_y_test = train_test_split(usps_X, usps_y, test_size=(1/3))\n",
    "    usps_X_train.reset_index(drop = True, inplace = True)\n",
    "    usps_X_test.reset_index(drop = True, inplace = True)\n",
    "    usps_y_train.reset_index(drop = True, inplace = True) \n",
    "    usps_y_test.reset_index(drop = True, inplace = True)\n",
    "    \n",
    "    for train_size in range(200, len(usps_X_train), 30):\n",
    "        mean_0, mean_1, prior_0, prior_1, cov = generative_train(usps_X_train[0:train_size].reset_index(drop = True), usps_y_train[0:train_size].reset_index(drop = True))\n",
    "        res = generative_test(usps_X_test, mean_0, mean_1, prior_0, prior_1, cov) \n",
    "        #print(train_size)\n",
    "        if(train_size in usps_gen):\n",
    "            usps_gen[train_size].append(accuracy_score(res, usps_y_test))\n",
    "        else:\n",
    "            usps_gen[train_size] = [accuracy_score(res, usps_y_test)]\n",
    "            \n",
    "    col = pd.DataFrame(np.ones((np.shape(usps_X_test)[0],1)))\n",
    "    usps_X_test['bias'] = col\n",
    "    \n",
    "    for train_size in range(200, len(usps_X_train), 30):\n",
    "        w, _ = bayasian_logistic_reg(usps_X_train[0:train_size].reset_index(drop = True), usps_y_train[0:train_size].reset_index(drop = True))\n",
    "        y = expit(np.dot(usps_X_test, w))\n",
    "        prob = [1 if a >= 0.5 else 0 for a in y]\n",
    "        if(train_size in usps_dis):\n",
    "            usps_dis[train_size].append(accuracy_score(prob, usps_y_test))\n",
    "        else:\n",
    "            usps_dis[train_size] = [ accuracy_score(prob, usps_y_test) ]     \n",
    "\n",
    "\n",
    "uspsgen_mean = []\n",
    "uspsgen_size = []\n",
    "uspsgen_std = []\n",
    "for size, accuracy_list in usps_gen.items():\n",
    "    uspsgen_mean.append(stat.mean(accuracy_list))\n",
    "    uspsgen_std.append(stat.stdev(accuracy_list))\n",
    "    uspsgen_std.append(size)\n",
    "\n",
    "uspsdis_mean = []\n",
    "uspsdis_size = []\n",
    "uspsdis_std = []\n",
    "for size, accuracy_list in usps_dis.items():\n",
    "    uspsdis_mean.append(stat.mean(accuracy_list))\n",
    "    uspsdis_std.append(stat.stdev(accuracy_list))\n",
    "    uspsdis_std.append(size)\n"
   ]
  },
  {
   "cell_type": "markdown",
   "metadata": {},
   "source": [
    "# TASK 1"
   ]
  },
  {
   "cell_type": "code",
   "execution_count": 342,
   "metadata": {
    "scrolled": false
   },
   "outputs": [
    {
     "data": {
      "image/png": "[encoded data removed]",
      "text/plain": [
       "<Figure size 450x300 with 1 Axes>"
      ]
     },
     "metadata": {},
     "output_type": "display_data"
    }
   ],
   "source": [
    "# ploting graph for dataset A\n",
    "\n",
    "agen_mean = []\n",
    "agen_size = []\n",
    "agen_std = []\n",
    "\n",
    "for size, accuracy_list in a_gen.items():\n",
    "    agen_mean.append(stat.mean(accuracy_list))\n",
    "    agen_std.append(stat.stdev(accuracy_list))\n",
    "    agen_size.append(size)\n",
    "\n",
    "adis_mean = []\n",
    "adis_size = []\n",
    "adis_std = []\n",
    "for size, accuracy_list in a_dis.items():\n",
    "    adis_mean.append(stat.mean(accuracy_list))\n",
    "    adis_std.append(stat.stdev(accuracy_list))\n",
    "    adis_size.append(size)\n",
    "    \n",
    "fig, ax = plt.subplots(nrows=1, ncols= 1)\n",
    "\n",
    "fig.tight_layout(pad = 0.5, w_pad = 3, h_pad = 3)\n",
    "ax.errorbar(agen_size, agen_mean, yerr = agen_std, fmt='.', label='generative')\n",
    "ax.errorbar(adis_size, adis_mean, yerr = adis_std, fmt='.', label='discriminative')\n",
    "ax.legend(loc='lower right')\n",
    "#plt.rcParams['figure.dpi'] = 75 # default for me was 75\n",
    "ax.set_ylabel('Accuracy')\n",
    "ax.set_xlabel('size')\n",
    "ax.set_title(\"Dataset A\")\n",
    "ax.grid(True)"
   ]
  },
  {
   "cell_type": "code",
   "execution_count": 343,
   "metadata": {},
   "outputs": [
    {
     "data": {
      "image/png": "[encoded data removed]",
      "text/plain": [
       "<Figure size 450x300 with 1 Axes>"
      ]
     },
     "metadata": {},
     "output_type": "display_data"
    }
   ],
   "source": [
    "# ploting graph for dataset B\n",
    "\n",
    "bgen_mean = []\n",
    "bgen_size = []\n",
    "bgen_std = []\n",
    "\n",
    "for size, accuracy_list in b_gen.items():\n",
    "    bgen_mean.append(stat.mean(accuracy_list))\n",
    "    bgen_std.append(stat.stdev(accuracy_list))\n",
    "    bgen_size.append(size)\n",
    "\n",
    "bdis_mean = []\n",
    "bdis_size = []\n",
    "bdis_std = []\n",
    "for size, accuracy_list in b_dis.items():\n",
    "    bdis_mean.append(stat.mean(accuracy_list))\n",
    "    bdis_std.append(stat.stdev(accuracy_list))\n",
    "    bdis_size.append(size)\n",
    "    \n",
    "fig, ax = plt.subplots(nrows=1, ncols= 1)\n",
    "\n",
    "fig.tight_layout(pad = 0.5, w_pad = 3, h_pad = 3)\n",
    "ax.errorbar(bgen_size, bgen_mean, yerr = bgen_std, fmt='.', label='generative')\n",
    "ax.errorbar(bdis_size, bdis_mean, yerr = bdis_std, fmt='.', label='discriminative')\n",
    "ax.set_title(\"Dataset B\")\n",
    "ax.legend(loc='lower right')\n",
    "#plt.rcParams['figure.dpi'] = 75 # default for me was 75\n",
    "ax.set_ylabel('Accuracy')\n",
    "ax.set_xlabel('size')\n",
    "ax.grid(True)"
   ]
  },
  {
   "cell_type": "code",
   "execution_count": 344,
   "metadata": {},
   "outputs": [
    {
     "data": {
      "image/png": "[encoded data removed]",
      "text/plain": [
       "<Figure size 450x300 with 1 Axes>"
      ]
     },
     "metadata": {},
     "output_type": "display_data"
    }
   ],
   "source": [
    "# ploting graph for dataset USPS\n",
    "\n",
    "uspsgen_mean = []\n",
    "uspsgen_size = []\n",
    "uspsgen_std = []\n",
    "\n",
    "for size, accuracy_list in usps_gen.items():\n",
    "    uspsgen_mean.append(stat.mean(accuracy_list))\n",
    "    uspsgen_std.append(stat.stdev(accuracy_list))\n",
    "    uspsgen_size.append(size)\n",
    "\n",
    "uspsdis_mean = []\n",
    "uspsdis_size = []\n",
    "uspsdis_std = []\n",
    "for size, accuracy_list in usps_dis.items():\n",
    "    uspsdis_mean.append(stat.mean(accuracy_list))\n",
    "    uspsdis_std.append(stat.stdev(accuracy_list))\n",
    "    uspsdis_size.append(size)\n",
    "    \n",
    "fig, ax = plt.subplots(nrows=1, ncols= 1)\n",
    "\n",
    "fig.tight_layout(pad = 0.5, w_pad = 3, h_pad = 3)\n",
    "ax.errorbar(uspsgen_size, uspsgen_mean, yerr = uspsgen_std, fmt='.', label='generative')\n",
    "ax.errorbar(uspsdis_size, uspsdis_mean, yerr = uspsdis_std, fmt='.', label='discriminative')\n",
    "ax.set_title(\"Dataset USPS\")\n",
    "ax.legend(loc='lower right')\n",
    "ax.set_ylabel('Accuracy')\n",
    "ax.set_xlabel('size')\n",
    "ax.grid(True)"
   ]
  },
  {
   "cell_type": "markdown",
   "metadata": {},
   "source": [
    "In your submission plot these results and discuss them: how do the algorithms perform on these\n",
    "datasets? are there systematic differences? and how do the differences depend on training set size?\n",
    "\n",
    "As a general trend accross all the dataset we observe that as the training set size increases the testing accuracy increase also the standard deviation shown by the error bar descreases.\n",
    "\n",
    "Dataset A:\n",
    "We observe that for dataset A, the generative model performs pretty well compared to the discriminative model for lower test size. As the test size increase, the difference between the 2 accuracies becomes smaller and smaller. \n",
    "\n",
    "A explaination for this is that, the dataset A is generated from a uniform distribution. Hence, the generative model fits pretty well on it as it satisifies the shared covariance matrix assumption made while defining the generative model. The data is linearly seperable and hence, \n",
    "\n",
    "Dataset B:\n",
    "We observe that in dataset B, the accuracy is comparitive lesser. The generative model assumption doesn't completely hold true as the dataset is generated from multiple Gaussians with differing covariance structure.\n",
    "Also, as the dataset is someone linearly sepearable, it was expected that the discriminative model will provide descent accuracy but it won't be really high as a line cannot perfectly fit. \n",
    "\n",
    "Dataset USPS:\n",
    "Over here we observe that the discriminative model performs better than the generative model for very less dataset. However, as the data size increases both perform almost the same. \n",
    "The USPS is a real-life dataset and hence, the inputs can be really noisy. Hence, for small dataset size the generative model does not perform that well. As, the size of the trainset increases. The model is feed more examples and hence the overall noise descreases. \n",
    "\n",
    "Conclusion: \n",
    "We observe that which model performs better between generative and discrimative depends on the kind of data we are working on."
   ]
  },
  {
   "cell_type": "code",
   "execution_count": 345,
   "metadata": {},
   "outputs": [],
   "source": [
    "# this function calculates the wt vector using gradient ascent method\n",
    "\n",
    "def gradient_ascent(X, t, learning_rate = 10**(-3)):\n",
    "    start_time = time.time()\n",
    "    time_vector = []\n",
    "    alpha = 0.1\n",
    "\n",
    "    w_old = np.zeros((np.shape(X)[1],1))\n",
    "    time_vector.append((w_old, 0))\n",
    "    b = np.dot(X, w_old)\n",
    "    y = expit(b)\n",
    "    w_new = w_old - (learning_rate*(np.dot(X.T, y - t) + alpha*w_old))\n",
    "    time_vector.append((w_new, time.time() - start_time))\n",
    "    n = 1\n",
    "    while(((LA.norm(w_new - w_old) / LA.norm(w_old)) >= 10**(-3)) and (n <= 6000)):\n",
    "        w_old = w_new\n",
    "        b = np.dot(X, w_old)\n",
    "        y = expit(b)\n",
    "        w_new = w_old - (10**(-3)*(np.dot(X.T, y - t) + alpha*w_old))\n",
    "        if(n%10 == 0):\n",
    "            time_vector.append((w_new, time.time() - start_time))\n",
    "        n+=1\n",
    "\n",
    "    return w_new, time_vector"
   ]
  },
  {
   "cell_type": "markdown",
   "metadata": {},
   "source": [
    "# TASK 2"
   ]
  },
  {
   "cell_type": "code",
   "execution_count": 346,
   "metadata": {
    "scrolled": false
   },
   "outputs": [
    {
     "name": "stderr",
     "output_type": "stream",
     "text": [
      "C:\\Users\\rauna\\Anaconda3\\lib\\site-packages\\ipykernel_launcher.py:18: SettingWithCopyWarning: \n",
      "A value is trying to be set on a copy of a slice from a DataFrame.\n",
      "Try using .loc[row_indexer,col_indexer] = value instead\n",
      "\n",
      "See the caveats in the documentation: http://pandas.pydata.org/pandas-docs/stable/indexing.html#indexing-view-versus-copy\n"
     ]
    },
    {
     "data": {
      "text/plain": [
       "<matplotlib.legend.Legend at 0x183204b3240>"
      ]
     },
     "execution_count": 346,
     "metadata": {},
     "output_type": "execute_result"
    },
    {
     "data": {
      "image/png": "[encoded data removed]",
      "text/plain": [
       "<Figure size 450x300 with 1 Axes>"
      ]
     },
     "metadata": {},
     "output_type": "display_data"
    }
   ],
   "source": [
    "# to divide dataset into train and test\n",
    "index = math.floor(len(A_X)/3)\n",
    "\n",
    "X_vect = A_X[index::].reset_index( drop = True)\n",
    "col = pd.DataFrame(np.ones((np.shape(X_vect)[0],1)))\n",
    "X_vect['bias'] = col\n",
    "\n",
    "\n",
    "# running 3 times to reduce the noise in time for gradient ascent\n",
    "w, time_vector1 = gradient_ascent(X_vect.values,A_y[index::].reset_index( drop = True).values)\n",
    "w, time_vector2 = gradient_ascent(X_vect.values, A_y[index::].reset_index(drop = True).values)\n",
    "w, time_vector3 = gradient_ascent(X_vect.values ,A_y[index::].reset_index(drop = True).values)\n",
    "\n",
    "\n",
    "A_test = A_X[0:index]\n",
    "A_test.reset_index(inplace = True, drop = True)\n",
    "col = pd.DataFrame(np.ones((np.shape(A_test)[0],1)))\n",
    "A_test['bias'] = col\n",
    "time_vals = []\n",
    "error = []\n",
    "\n",
    "for i in range(len(time_vector1)):\n",
    "    y = expit(np.dot(A_test, time_vector1[i][0]))\n",
    "    prob = [1 if a >= 0.5 else 0 for a in y]\n",
    "    time_vals.append((time_vector1[i][1] + time_vector2[i][1] + time_vector3[i][1])/3) \n",
    "    error.append( accuracy_score(prob, A_y[0:index]))\n",
    "\n",
    "# plotting the time vs accuracy for A\n",
    "    \n",
    "fig, ax = plt.subplots(nrows=1, ncols= 1)\n",
    "\n",
    "fig.tight_layout(pad = 0.5, w_pad = 3, h_pad = 3)\n",
    "ax.plot(time_vals, error, label = \"Gradient Ascent\")\n",
    "ax.set_title(\"Dataset A\")\n",
    "ax.set_ylabel('Accuracy')\n",
    "ax.set_xlabel('Time')\n",
    "ax.grid(True )\n",
    "\n",
    "\n",
    "# running 3 times to reduce the noise in time for Newton Method\n",
    "\n",
    "w, time_vector1 = bayasian_logistic_reg(A_X[index::].reset_index(drop = True),A_y[index::].reset_index(drop = True))\n",
    "w, time_vector2 = bayasian_logistic_reg(A_X[index::].reset_index(drop = True),A_y[index::].reset_index(drop = True))\n",
    "w, time_vector3 = bayasian_logistic_reg(A_X[index::].reset_index(drop = True),A_y[index::].reset_index(drop = True))\n",
    "\n",
    "time_vals = []\n",
    "error = []\n",
    "\n",
    "for i in range(len(time_vector1)):\n",
    "    y = expit(np.dot(A_test, time_vector1[i][0]))\n",
    "    prob = [1 if a >= 0.5 else 0 for a in y]\n",
    "    time_vals.append((time_vector1[i][1] + time_vector2[i][1] + time_vector3[i][1])/3) \n",
    "    error.append(accuracy_score(prob, A_y[0:index]))\n",
    "\n",
    "ax.plot(time_vals, error, label = \"Newton's Method\")\n",
    "ax.legend(loc='lower right')\n"
   ]
  },
  {
   "cell_type": "code",
   "execution_count": 347,
   "metadata": {},
   "outputs": [
    {
     "data": {
      "text/plain": [
       "<matplotlib.legend.Legend at 0x1831fb73b00>"
      ]
     },
     "execution_count": 347,
     "metadata": {},
     "output_type": "execute_result"
    },
    {
     "data": {
      "image/png": "[encoded data removed]",
      "text/plain": [
       "<Figure size 450x300 with 1 Axes>"
      ]
     },
     "metadata": {},
     "output_type": "display_data"
    }
   ],
   "source": [
    "index = math.floor(len(usps_X)/3)\n",
    "\n",
    "\n",
    "X_vect = usps_X[index::].reset_index(drop = True)\n",
    "col = pd.DataFrame(np.ones((np.shape(X_vect)[0],1)))\n",
    "X_vect['bias'] = col\n",
    "X_vect = X_vect.values\n",
    "y_vect = usps_y[index::].reset_index(drop = True).values\n",
    "\n",
    "# running 3 times to reduce the noise in time for gradient ascent\n",
    "\n",
    "w, time_vector1 = gradient_ascent(X_vect, y_vect)\n",
    "w, time_vector2 = gradient_ascent(X_vect, y_vect)\n",
    "w, time_vector3 = gradient_ascent(X_vect, y_vect)\n",
    "\n",
    "\n",
    "usps_test = copy.deepcopy(usps_X[0:index])\n",
    "usps_test.reset_index(inplace = True, drop = True)\n",
    "col = pd.DataFrame(np.ones((np.shape(usps_test)[0],1)))\n",
    "usps_test['bias'] = col\n",
    "\n",
    "\n",
    "\n",
    "time_vals = []\n",
    "error = []\n",
    "\n",
    "for i in range(len(time_vector1)):\n",
    "    y = expit(np.dot(usps_test, time_vector1[i][0]))\n",
    "    prob = [1 if a >= 0.5 else 0 for a in y]\n",
    "    time_vals.append((time_vector1[i][1] + time_vector2[i][1] + time_vector3[i][1])/3) \n",
    "    error.append(( accuracy_score(prob, usps_y[0:index])))\n",
    "\n",
    "# plotting the time vs accuracy for usps\n",
    "    \n",
    "fig, ax = plt.subplots(nrows=1, ncols= 1)\n",
    "\n",
    "fig.tight_layout(pad = 0.5, w_pad = 3, h_pad = 3)\n",
    "ax.plot(time_vals, error, label = \"Gradient Ascent\")\n",
    "ax.set_title(\"Dataset USPS\")\n",
    "ax.set_ylabel('Accuracy')\n",
    "ax.set_xlabel('Time')\n",
    "ax.grid(True )\n",
    "\n",
    "# running 3 times to reduce the noise in time for Newton Method\n",
    "    \n",
    "w, time_vector1 = bayasian_logistic_reg(usps_X[index::].reset_index(drop = True),usps_y[index::].reset_index(drop = True))\n",
    "w, time_vector2 = bayasian_logistic_reg(usps_X[index::].reset_index(drop = True), usps_y[index::].reset_index(drop = True))\n",
    "w, time_vector3 = bayasian_logistic_reg(usps_X[index::].reset_index(drop = True), usps_y[index::].reset_index(drop = True))\n",
    "\n",
    "time_vals = []\n",
    "error = []\n",
    "\n",
    "for i in range(len(time_vector1)):\n",
    "    y = expit(np.dot(usps_test, time_vector1[i][0]))\n",
    "    prob = [1 if a >= 0.5 else 0 for a in y]\n",
    "    time_vals.append((time_vector1[i][1] + time_vector2[i][1] + time_vector3[i][1])/3) \n",
    "    error.append((accuracy_score(prob, usps_y[0:index])))\n",
    "\n",
    "ax.plot(time_vals, error, label = \"Newton's Method\")\n",
    "ax.legend(loc='lower right')\n"
   ]
  },
  {
   "cell_type": "markdown",
   "metadata": {},
   "source": [
    "how do the algorithms perform on these\n",
    "datasets? are there systematic differences? and how do the differences depend on data set charac-\n",
    "teristics?\n",
    "\n",
    "We observe that gradient descent is really slow on the Dataset A and Newton's Method seems to converge pretty quickly.\n",
    "For dataset USPS, gradient descent is slightly quicker than Newton's Method. \n",
    "\n",
    "An explaination for this is that the Newton' Method involve computing the inverse of the Hessian Matrix. This is a very expensive operation and requires time complexity O(n^3). \n",
    "So, for a dataset with a lot of features, The Hessian inverse compution will be really expensive. \n",
    "Even, though Newton's Method usually converges in lesser number of steps the overall time taken by Newton's Method can be higher than that taken by Gradient descent due to Hessian inverse computation overhead.\n",
    "\n",
    "There are lesser features in A compared to USPS and hence Newton's method performs better on A. While gradient descent performs better on USPS."
   ]
  },
  {
   "cell_type": "markdown",
   "metadata": {},
   "source": [
    "# EXTRA CREDITS"
   ]
  },
  {
   "cell_type": "code",
   "execution_count": 348,
   "metadata": {},
   "outputs": [],
   "source": [
    "def s_gradient_ascent(X, t, iterations, batch_size, learning_rate = 10**(-3)):\n",
    "    start_time = time.time()\n",
    "    time_vector = []\n",
    "    alpha = 0.1\n",
    "\n",
    "    w_old = np.zeros((np.shape(X)[1],1))\n",
    "    time_vector.append((w_old, 0))\n",
    "    B_X_train, X_new, B_y_train, t_new = train_test_split(X, t, test_size=(batch_size/len(X)))\n",
    "    \n",
    "    #print(np.shape(X_new))\n",
    "    #print(np.shape(w_old))\n",
    "    b = np.dot(X_new, w_old)\n",
    "    y = expit(b)\n",
    "    \n",
    "    \n",
    "    prod = np.dot(X_new.T, y - t_new)\n",
    "    w_new = w_old -  learning_rate*(prod + alpha*w_old)\n",
    "\n",
    "    time_vector.append((w_new, time.time() - start_time))\n",
    "    n = 1\n",
    "    while(n <= iterations):\n",
    "        w_old = w_new\n",
    "        i = random.randint(0, len(X) -1)\n",
    "        B_X_train, X_new, B_y_train, t_new = train_test_split(X, t, test_size=(batch_size/len(X)))\n",
    "        #X_new = np.reshape(X[i], (1, np.shape(X[i])[0]))\n",
    "        b = np.dot(X_new, w_old)\n",
    "        y = expit(b)\n",
    "        learning_rate = 1/n\n",
    "        w_new = w_old - learning_rate*(np.dot(X_new.T, y - t_new) + alpha*w_old)\n",
    "        if(n%10 == 0):\n",
    "            time_vector.append((w_new, time.time() - start_time))\n",
    "        n+=1\n",
    "\n",
    "    return w_new, time_vector"
   ]
  },
  {
   "cell_type": "code",
   "execution_count": 349,
   "metadata": {
    "scrolled": true
   },
   "outputs": [
    {
     "name": "stderr",
     "output_type": "stream",
     "text": [
      "C:\\Users\\rauna\\Anaconda3\\lib\\site-packages\\ipykernel_launcher.py:19: SettingWithCopyWarning: \n",
      "A value is trying to be set on a copy of a slice from a DataFrame.\n",
      "Try using .loc[row_indexer,col_indexer] = value instead\n",
      "\n",
      "See the caveats in the documentation: http://pandas.pydata.org/pandas-docs/stable/indexing.html#indexing-view-versus-copy\n"
     ]
    },
    {
     "data": {
      "text/plain": [
       "Text(0.5,16.0417,'Time')"
      ]
     },
     "execution_count": 349,
     "metadata": {},
     "output_type": "execute_result"
    },
    {
     "data": {
      "image/png": "[encoded data removed]",
      "text/plain": [
       "<Figure size 450x300 with 4 Axes>"
      ]
     },
     "metadata": {},
     "output_type": "display_data"
    }
   ],
   "source": [
    "index = math.floor(len(usps_X)/3)\n",
    "\n",
    "X_vect = usps_X[index::].reset_index(drop = True)\n",
    "col = pd.DataFrame(np.ones((np.shape(X_vect)[0],1)))\n",
    "X_vect['bias'] = col\n",
    "X_vect = X_vect.values\n",
    "y_vect = usps_y[index::].reset_index(drop = True).values\n",
    "\n",
    "start_t = time.time()\n",
    "w, time_vector1 = s_gradient_ascent(X_vect, y_vect, 500, 1)\n",
    "w, time_vector2 = s_gradient_ascent(X_vect, y_vect, 500, 10)\n",
    "w, time_vector3 = s_gradient_ascent(X_vect, y_vect, 500, 100)\n",
    "\n",
    "\n",
    "\n",
    "A_test = usps_X[0:index]\n",
    "A_test.reset_index(inplace = True, drop = True)\n",
    "col = pd.DataFrame(np.ones((np.shape(usps_test)[0],1)))\n",
    "A_test['bias'] = col\n",
    "time_vals1 = []\n",
    "error1 = []\n",
    "\n",
    "time_vals2 = []\n",
    "error2 = []\n",
    "\n",
    "time_vals3 = []\n",
    "error3 = []\n",
    "\n",
    "for i in range(len(time_vector1)):\n",
    "    #print(i)\n",
    "    y = expit(np.dot(A_test, time_vector1[i][0]))\n",
    "    prob = [1 if a >= 0.5 else 0 for a in y]\n",
    "    time_vals1.append(time_vector1[i][1]) \n",
    "    error1.append( accuracy_score(prob, usps_y[0:index]))\n",
    "\n",
    "for i in range(len(time_vector2)):\n",
    "    #print(i)\n",
    "    y = expit(np.dot(A_test, time_vector2[i][0]))\n",
    "    prob = [1 if a >= 0.5 else 0 for a in y]\n",
    "    time_vals2.append(time_vector2[i][1]) \n",
    "    error2.append( accuracy_score(prob, usps_y[0:index]))\n",
    "    \n",
    "for i in range(len(time_vector3)):\n",
    "    #print(i)\n",
    "    y = expit(np.dot(A_test, time_vector3[i][0]))\n",
    "    prob = [1 if a >= 0.5 else 0 for a in y]\n",
    "    time_vals3.append(time_vector3[i][1]) \n",
    "    error3.append( accuracy_score(prob, usps_y[0:index]))\n",
    "\n",
    "    \n",
    "fig, ax = plt.subplots(nrows=2, ncols= 2)\n",
    "\n",
    "fig.tight_layout(pad = 0.5, w_pad = 3, h_pad = 3)\n",
    "ax[0][0].plot(time_vals1, error1, label = \"Batch size 1\")\n",
    "ax[0][1].plot(time_vals2, error2, label = \"Batch size 10\")\n",
    "ax[1][0].plot(time_vals3, error2, label = \"Batch size 100\")\n",
    "\n",
    "ax[0][0].set_title(\"Batch Size 1\")\n",
    "ax[0][1].set_title(\"Batch Size 10\")\n",
    "ax[1][0].set_title(\"Batch Size 100\")\n",
    "#plt.rcParams['figure.dpi'] = 75 # default for me was 75\n",
    "ax[0][0].set_ylabel('Accuracy')\n",
    "ax[0][0].set_xlabel('Time')\n",
    "\n",
    "ax[0][1].set_ylabel('Accuracy')\n",
    "ax[0][1].set_xlabel('Time')\n",
    "\n",
    "ax[1][0].set_ylabel('Accuracy')\n",
    "ax[1][0].set_xlabel('Time')\n"
   ]
  },
  {
   "cell_type": "markdown",
   "metadata": {},
   "source": [
    "The stochatic gradient descent seems to give a good enough accuracy in reasonable iterations. However, the updates are very noisy. \n",
    "\n",
    "This is because, the gradient update is calculate by the error on only example. \n",
    "\n",
    "In order to reduce this noisy update, I have implemented a mini-batch gradient descent. \n",
    "\n",
    "We observe that as the batch size increase the updates become less noisy.\n",
    "However, with increasing batch size the training time also increases. \n",
    "\n",
    "Therefore, there is a trade-off between the between less noisy convergence and the time taken. \n",
    "\n",
    "The stochastic gradient descent can be considered as a special case of mini-batch gradient descent with batch size = 1. \n",
    "This gives us a noisy update. \n",
    "\n",
    "The batch gradient descent is mini-batch GD where the batch size is the entore dataset. This can be really slow on data where there are large number of samples. \n",
    "\n",
    "Hence, we have to give a mini-batch size such it gives us the best of both the world. A good update with less noise in reasonable time."
   ]
  },
  {
   "cell_type": "code",
   "execution_count": 350,
   "metadata": {},
   "outputs": [
    {
     "name": "stderr",
     "output_type": "stream",
     "text": [
      "C:\\Users\\rauna\\Anaconda3\\lib\\site-packages\\ipykernel_launcher.py:16: SettingWithCopyWarning: \n",
      "A value is trying to be set on a copy of a slice from a DataFrame.\n",
      "Try using .loc[row_indexer,col_indexer] = value instead\n",
      "\n",
      "See the caveats in the documentation: http://pandas.pydata.org/pandas-docs/stable/indexing.html#indexing-view-versus-copy\n",
      "  app.launch_new_instance()\n"
     ]
    },
    {
     "data": {
      "image/png": "[encoded data removed]",
      "text/plain": [
       "<Figure size 450x300 with 1 Axes>"
      ]
     },
     "metadata": {},
     "output_type": "display_data"
    }
   ],
   "source": [
    "index = math.floor(len(A_X)/3)\n",
    "\n",
    "X_vect = A_X[index::].reset_index(drop = True)\n",
    "col = pd.DataFrame(np.ones((np.shape(X_vect)[0],1)))\n",
    "X_vect['bias'] = col\n",
    "X_vect = X_vect.values\n",
    "y_vect = A_y[index::].reset_index(drop = True).values\n",
    "\n",
    "start_t = time.time()\n",
    "w, time_vector3 = s_gradient_ascent(X_vect, y_vect, 100000, 1)\n",
    "\n",
    "\n",
    "A_test = A_X[0:index]\n",
    "A_test.reset_index(inplace = True, drop = True)\n",
    "col = pd.DataFrame(np.ones((np.shape(A_test)[0],1)))\n",
    "A_test['bias'] = col\n",
    "\n",
    "time_vals = []\n",
    "error = []\n",
    "\n",
    "for i in range(len(time_vector3)):\n",
    "    y = expit(np.dot(A_test, time_vector3[i][0]))\n",
    "    prob = [1 if a >= 0.5 else 0 for a in y]\n",
    "    time_vals.append(time_vector3[i][1]) \n",
    "    error.append(accuracy_score(prob, A_y[0:index]))\n",
    "\n",
    "\n",
    "fig, ax = plt.subplots(nrows=1, ncols= 1)\n",
    "\n",
    "fig.tight_layout(pad = 0.5, w_pad = 3, h_pad = 3)\n",
    "ax.plot(time_vals, error)\n",
    "ax.set_title(\"MSE\")\n",
    "#plt.rcParams['figure.dpi'] = 75 # default for me was 75\n",
    "ax.set_ylabel('Accuracy')\n",
    "ax.set_xlabel('Time')\n",
    "ax.grid(True)"
   ]
  },
  {
   "cell_type": "markdown",
   "metadata": {},
   "source": [
    "We observe that the stochastic gradient descent is really slow to compared to gradient descent. This is because, SGD only gives performance boost if the data size is large. For smaller data sizes, it doesn't have much of an advantage and can be slower and time because the update based on single example could take us further away from the optimal solution. \n",
    "\n",
    "All, there is a significant overhead in SGD and mini-batch GD of randomly sampling examples from the dataset. This could be an expensive operation. The overhead isn't really worth for small datasets like the one's we have experimented on. (A and USPS).\n"
   ]
  }
 ],
 "metadata": {
  "kernelspec": {
   "display_name": "Python 3",
   "language": "python",
   "name": "python3"
  },
  "language_info": {
   "codemirror_mode": {
    "name": "ipython",
    "version": 3
   },
   "file_extension": ".py",
   "mimetype": "text/x-python",
   "name": "python",
   "nbconvert_exporter": "python",
   "pygments_lexer": "ipython3",
   "version": "3.6.5"
  }
 },
 "nbformat": 4,
 "nbformat_minor": 2
}
